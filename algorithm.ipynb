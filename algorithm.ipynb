{
 "cells": [
  {
   "cell_type": "code",
   "execution_count": null,
   "id": "84a4705a",
   "metadata": {},
   "outputs": [],
   "source": [
    "# helpers\n",
    "def left(i):\n",
    "    \"\"\"\n",
    "    Returns the index of the left child of i\n",
    "    \"\"\"\n",
    "    return 2 * i + 1\n",
    "\n",
    "def right(i):\n",
    "    \"\"\"\n",
    "    Returns the index of the right child of i\n",
    "    \"\"\"\n",
    "    return 2 * i + 2\n",
    "\n",
    "def parent(i):\n",
    "    \"\"\"\n",
    "    Returns the index of the parent of i\n",
    "    \"\"\"\n",
    "    return (i - 1) // 2"
   ]
  },
  {
   "cell_type": "code",
   "execution_count": 13,
   "id": "e46e47be",
   "metadata": {},
   "outputs": [],
   "source": [
    "# insertion heapify\n",
    "def insert(heap, val):\n",
    "    \"\"\"\n",
    "    Inserts a value into the heap at the end, then bubbles it up to correct position.\n",
    "    \"\"\"\n",
    "    heap.append(val)\n",
    "    i = len(heap)-1\n",
    "    while i > 0 and heap[parent(i)] < heap[i]:\n",
    "        parent_i = parent(i)\n",
    "        temp = heap[parent_i]\n",
    "        heap[parent_i] = heap[i]\n",
    "        heap[i] = temp\n",
    "        i = parent_i\n",
    "\n",
    "def insertion_heapify(A):\n",
    "    \"\"\"\n",
    "    Heapify using insertion method and adding elements one by one\n",
    "    Note: This is NOT inplace, and returns the heap as a list\n",
    "    \"\"\"\n",
    "    heap = []\n",
    "    for i in range(len(A)):\n",
    "        insert(heap, A[i])\n",
    "    return heap"
   ]
  },
  {
   "cell_type": "code",
   "execution_count": null,
   "id": "1525422e",
   "metadata": {},
   "outputs": [],
   "source": []
  }
 ],
 "metadata": {
  "kernelspec": {
   "display_name": "Python 3",
   "language": "python",
   "name": "python3"
  },
  "language_info": {
   "codemirror_mode": {
    "name": "ipython",
    "version": 3
   },
   "file_extension": ".py",
   "mimetype": "text/x-python",
   "name": "python",
   "nbconvert_exporter": "python",
   "pygments_lexer": "ipython3",
   "version": "3.13.2"
  }
 },
 "nbformat": 4,
 "nbformat_minor": 5
}
