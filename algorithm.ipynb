{
 "cells": [
  {
   "cell_type": "markdown",
   "id": "4f2090a7",
   "metadata": {},
   "source": [
    "## Algorithm"
   ]
  },
  {
   "cell_type": "code",
   "execution_count": 1,
   "id": "84a4705a",
   "metadata": {},
   "outputs": [],
   "source": [
    "# helpers\n",
    "def left(i):\n",
    "    \"\"\"\n",
    "    Returns the index of the left child of i\n",
    "    \"\"\"\n",
    "    return 2 * i + 1\n",
    "\n",
    "def right(i):\n",
    "    \"\"\"\n",
    "    Returns the index of the right child of i\n",
    "    \"\"\"\n",
    "    return 2 * i + 2\n",
    "\n",
    "def parent(i):\n",
    "    \"\"\"\n",
    "    Returns the index of the parent of i\n",
    "    \"\"\"\n",
    "    return (i - 1) // 2"
   ]
  },
  {
   "cell_type": "code",
   "execution_count": 2,
   "id": "e46e47be",
   "metadata": {},
   "outputs": [],
   "source": [
    "def insert(heap, val):\n",
    "    \"\"\"\n",
    "    Inserts a value into the heap at the end, then bubbles it up to correct position.\n",
    "    \"\"\"\n",
    "    heap.append(val)\n",
    "    i = len(heap)-1\n",
    "    while i > 0 and heap[parent(i)] < heap[i]:\n",
    "        parent_i = parent(i)\n",
    "        temp = heap[parent_i]\n",
    "        heap[parent_i] = heap[i]\n",
    "        heap[i] = temp\n",
    "        i = parent_i\n",
    "\n",
    "# insertion heapify\n",
    "def insertion_heapify(A, *args):\n",
    "    \"\"\"\n",
    "    Heapify using insertion method and adding elements one by one\n",
    "    \"\"\"\n",
    "    heap = []\n",
    "    for i in range(len(A)):\n",
    "        insert(heap, A[i])\n",
    "    A[:] = heap"
   ]
  },
  {
   "cell_type": "code",
   "execution_count": 3,
   "id": "1525422e",
   "metadata": {},
   "outputs": [],
   "source": [
    "# bubble method 1\n",
    "def bubble_method_1(A, i):\n",
    "    \"\"\"\n",
    "    Bubble down until value is bigger than both children (we'll call this \"Bubble Method 1\")\n",
    "    Choose the bigger child and swap with it while comparing with itself, then repeat until no more swaps are needed\n",
    "    \"\"\"\n",
    "    n = len(A)\n",
    "    l = left(i)\n",
    "    r = right(i)\n",
    "    while (l < n and A[i] < A[l]) or (r < n and A[i] < A[r]):\n",
    "        if l < n and r < n:\n",
    "            # left\n",
    "            if A[l] > A[r]:\n",
    "                temp = A[l]\n",
    "                A[l] = A[i]\n",
    "                A[i] = temp\n",
    "                i = l\n",
    "            # right\n",
    "            else:\n",
    "                temp = A[r]\n",
    "                A[r] = A[i]\n",
    "                A[i] = temp\n",
    "                i = r\n",
    "        elif l < n:\n",
    "            # left\n",
    "            temp = A[l]\n",
    "            A[l] = A[i]\n",
    "            A[i] = temp\n",
    "            i = l\n",
    "        elif r < n:\n",
    "            # right\n",
    "            temp = A[r]\n",
    "            A[r] = A[i]\n",
    "            A[i] = temp\n",
    "            i = r\n",
    "        l = left(i)\n",
    "        r = right(i)\n"
   ]
  },
  {
   "cell_type": "code",
   "execution_count": 4,
   "id": "ce36d504",
   "metadata": {},
   "outputs": [],
   "source": [
    "# bubble method 2\n",
    "def bubble_method_2(A, i):\n",
    "    \"\"\"\n",
    "    Bubble down all the way, then bubble up until value is smaller than parent\n",
    "    Choose the bigger child and swap with it all the way down, then go back up until smaller than parent\n",
    "    \"\"\"\n",
    "    n = len(A)\n",
    "    l = left(i)\n",
    "    r = right(i)\n",
    "    while l < n:\n",
    "        if r < n:\n",
    "            # left\n",
    "            if A[l] > A[r]:\n",
    "                temp = A[l]\n",
    "                A[l] = A[i]\n",
    "                A[i] = temp\n",
    "                i = l\n",
    "            # right\n",
    "            else:\n",
    "                temp = A[r]\n",
    "                A[r] = A[i]\n",
    "                A[i] = temp\n",
    "                i = r\n",
    "        else:\n",
    "            # left\n",
    "            temp = A[l]\n",
    "            A[l] = A[i]\n",
    "            A[i] = temp\n",
    "            i = l\n",
    "        l = left(i)\n",
    "        r = right(i)\n",
    "    \n",
    "    # bubble up\n",
    "    parent_i = parent(i)\n",
    "    while i > 0 and A[parent_i] < A[i]:\n",
    "        temp = A[parent_i]\n",
    "        A[parent_i] = A[i]\n",
    "        A[i] = temp\n",
    "        i = parent_i\n",
    "        parent_i = parent(i)"
   ]
  },
  {
   "cell_type": "code",
   "execution_count": 5,
   "id": "272f8631",
   "metadata": {},
   "outputs": [],
   "source": [
    "def heapify(A, bubble_down=bubble_method_1):\n",
    "    \"\"\"\n",
    "    Heapify using the passed in bubble_down method and build the heap buttom up\n",
    "    \"\"\"\n",
    "    heapify_h(A, 0, bubble_down)\n",
    "\n",
    "def heapify_h(A, i, bubble_down):\n",
    "    \"\"\"\n",
    "    Heapify wrapper calling helper\n",
    "    \"\"\"\n",
    "    if i < len(A)//2:\n",
    "        heapify_h(A, left(i), bubble_down)\n",
    "        heapify_h(A, right(i), bubble_down)\n",
    "        bubble_down(A, i)"
   ]
  },
  {
   "cell_type": "markdown",
   "id": "3f183a40",
   "metadata": {},
   "source": [
    "## Testing"
   ]
  },
  {
   "cell_type": "code",
   "execution_count": 6,
   "id": "d44d03e9",
   "metadata": {},
   "outputs": [],
   "source": [
    "def heap_test(A):\n",
    "    \"\"\"\n",
    "    Test the given array A to see if it is a heap\n",
    "    \"\"\"\n",
    "    n = len(A)\n",
    "    for i in range(n//2):\n",
    "        l = left(i)\n",
    "        r = right(i)\n",
    "        if l < n and A[i] < A[l]:\n",
    "            return False\n",
    "        if r < n and A[i] < A[r]:\n",
    "            return False\n",
    "    return True"
   ]
  },
  {
   "cell_type": "code",
   "execution_count": 7,
   "id": "0d4c3fec",
   "metadata": {},
   "outputs": [
    {
     "name": "stderr",
     "output_type": "stream",
     "text": [
      ".....\n",
      "----------------------------------------------------------------------\n",
      "Ran 5 tests in 0.003s\n",
      "\n",
      "OK\n"
     ]
    },
    {
     "data": {
      "text/plain": [
       "<unittest.main.TestProgram at 0x297fe308830>"
      ]
     },
     "execution_count": 7,
     "metadata": {},
     "output_type": "execute_result"
    }
   ],
   "source": [
    "import unittest\n",
    "\n",
    "class TestHeapify(unittest.TestCase):\n",
    "    \"\"\"\n",
    "    Each test case follows the order:\n",
    "        1. Test Bubble Method 1\n",
    "        2. Test Bubble Method 2\n",
    "        3. Test Insertion Method\n",
    "    \"\"\"\n",
    "    def test_already_heap(self):\n",
    "        A = [9, 8, 7, 6, 5, 4, 3, 2, 1]\n",
    "        heapify(A, bubble_method_1)\n",
    "        self.assertTrue(heap_test(A))\n",
    "\n",
    "        A = [9, 8, 7, 6, 5, 4, 3, 2, 1]\n",
    "        heapify(A, bubble_method_2)\n",
    "        self.assertTrue(heap_test(A))\n",
    "\n",
    "        A = [9, 8, 7, 6, 5, 4, 3, 2, 1]\n",
    "        insertion_heapify(A)\n",
    "        self.assertTrue(heap_test(A))\n",
    "\n",
    "    def test_need_heap(self):\n",
    "        A = [1, 2, 3, 4, 5, 6, 7, 8, 9]\n",
    "        heapify(A, bubble_method_1)\n",
    "        self.assertTrue(heap_test(A))\n",
    "\n",
    "        A = [1, 2, 3, 4, 5, 6, 7, 8, 9]\n",
    "        heapify(A, bubble_method_2)\n",
    "        self.assertTrue(heap_test(A))\n",
    "\n",
    "        A = [1, 2, 3, 4, 5, 6, 7, 8, 9]\n",
    "        insertion_heapify(A)\n",
    "        self.assertTrue(heap_test(A))\n",
    "    \n",
    "    def test_all_equal(self):\n",
    "        A = [10, 10, 10, 10, 10, 10, 10, 10, 10]\n",
    "        heapify(A, bubble_method_1)\n",
    "        self.assertTrue(heap_test(A))\n",
    "\n",
    "        A = [10, 10, 10, 10, 10, 10, 10, 10, 10]\n",
    "        heapify(A, bubble_method_2)\n",
    "        self.assertTrue(heap_test(A))\n",
    "\n",
    "        A = [10, 10, 10, 10, 10, 10, 10, 10, 10]\n",
    "        insertion_heapify(A)\n",
    "        self.assertTrue(heap_test(A))\n",
    "\n",
    "    def test_one_element(self):\n",
    "        A = [10]\n",
    "        heapify(A, bubble_method_1)\n",
    "        self.assertTrue(heap_test(A))\n",
    "\n",
    "        A = [10]\n",
    "        heapify(A, bubble_method_2)\n",
    "        self.assertTrue(heap_test(A))\n",
    "\n",
    "        A = [10]\n",
    "        insertion_heapify(A)\n",
    "        self.assertTrue(heap_test(A))\n",
    "\n",
    "    def test_empty(self):\n",
    "        A = []\n",
    "        heapify(A, bubble_method_1)\n",
    "        self.assertTrue(heap_test(A))\n",
    "\n",
    "        A = []\n",
    "        heapify(A, bubble_method_2)\n",
    "        self.assertTrue(heap_test(A))\n",
    "\n",
    "        A = []\n",
    "        insertion_heapify(A)\n",
    "        self.assertTrue(heap_test(A))\n",
    "\n",
    "unittest.main(argv=[''], exit=False)"
   ]
  },
  {
   "cell_type": "markdown",
   "id": "590c03e2",
   "metadata": {},
   "source": [
    "### Benchmarking"
   ]
  },
  {
   "cell_type": "code",
   "execution_count": 8,
   "id": "0cfaa82b",
   "metadata": {},
   "outputs": [],
   "source": [
    "import pandas as pd\n",
    "import matplotlib.pyplot as plt\n",
    "import seaborn as sns\n",
    "from tqdm import tqdm\n",
    "import time\n",
    "import random"
   ]
  },
  {
   "cell_type": "code",
   "execution_count": 9,
   "id": "be094358",
   "metadata": {},
   "outputs": [],
   "source": [
    "def benchmark(A, heapify, bubble_down=None):\n",
    "    \"\"\"\n",
    "    Benchmark the passed in heaify algorithm on array A\n",
    "    \"\"\"\n",
    "    start = time.perf_counter()\n",
    "    if bubble_down:\n",
    "        heapify(A, bubble_down)\n",
    "    else:\n",
    "        heapify(A)\n",
    "    end = time.perf_counter()\n",
    "    return (end - start)"
   ]
  },
  {
   "cell_type": "code",
   "execution_count": 10,
   "id": "23afd257",
   "metadata": {},
   "outputs": [],
   "source": [
    "# DataFrame set up\n",
    "sizes = [20000*x for x in range(1, 101)]\n",
    "#[10**x for x in range(2, 8)]\n",
    "index = pd.MultiIndex.from_product([['insertion', 'bubble_method_1', 'bubble_method_2'], sizes], names=['method', 'size'])\n",
    "df = pd.DataFrame(index=index, columns=['sorted', 'reverse_sorted', 'random'])"
   ]
  },
  {
   "cell_type": "code",
   "execution_count": 11,
   "id": "df62aa36",
   "metadata": {},
   "outputs": [
    {
     "name": "stderr",
     "output_type": "stream",
     "text": [
      "100%|██████████| 100/100 [14:31<00:00,  8.72s/it]\n"
     ]
    }
   ],
   "source": [
    "for i in tqdm(sizes):\n",
    "    # sorted\n",
    "    A = [x for x in range(i)]\n",
    "    df.loc[('insertion', i), 'sorted'] = benchmark(A, insertion_heapify)\n",
    "    df.loc[('bubble_method_1', i), 'sorted'] = benchmark(A, heapify, bubble_method_1)\n",
    "    df.loc[('bubble_method_2', i), 'sorted'] = benchmark(A, heapify, bubble_method_2)\n",
    "\n",
    "    # reverse sorted\n",
    "    A = [x for x in range(i-1, -1, -1)]\n",
    "    df.loc[('insertion', i), 'reverse_sorted'] = benchmark(A, insertion_heapify)\n",
    "    df.loc[('bubble_method_1', i), 'reverse_sorted'] = benchmark(A, heapify, bubble_method_1)\n",
    "    df.loc[('bubble_method_2', i), 'reverse_sorted'] = benchmark(A, heapify, bubble_method_2)\n",
    "\n",
    "    # random\n",
    "    A = [random.randint(0, 10000) for _ in range(i)]\n",
    "    df.loc[('insertion', i), 'random'] = benchmark(A, insertion_heapify)\n",
    "    df.loc[('bubble_method_1', i), 'random'] = benchmark(A, heapify, bubble_method_1)\n",
    "    df.loc[('bubble_method_2', i), 'random'] = benchmark(A, heapify, bubble_method_2)\n"
   ]
  },
  {
   "cell_type": "code",
   "execution_count": null,
   "id": "bd12b984",
   "metadata": {},
   "outputs": [],
   "source": [
    "import dill\n",
    "with open('heapify_benchmark.db', 'wb') as f:\n",
    "    dill.dump(df, f)\n",
    "pd.set_option('display.max_rows', None)\n",
    "pd.set_option('display.max_columns', None)"
   ]
  },
  {
   "cell_type": "markdown",
   "id": "dc510418",
   "metadata": {},
   "source": [
    "### Graphs for Each Function"
   ]
  },
  {
   "cell_type": "code",
   "execution_count": null,
   "id": "8e375b2e",
   "metadata": {},
   "outputs": [],
   "source": []
  },
  {
   "cell_type": "code",
   "execution_count": null,
   "id": "8d83b8e2",
   "metadata": {},
   "outputs": [],
   "source": []
  }
 ],
 "metadata": {
  "kernelspec": {
   "display_name": "Python 3",
   "language": "python",
   "name": "python3"
  },
  "language_info": {
   "codemirror_mode": {
    "name": "ipython",
    "version": 3
   },
   "file_extension": ".py",
   "mimetype": "text/x-python",
   "name": "python",
   "nbconvert_exporter": "python",
   "pygments_lexer": "ipython3",
   "version": "3.13.2"
  }
 },
 "nbformat": 4,
 "nbformat_minor": 5
}
