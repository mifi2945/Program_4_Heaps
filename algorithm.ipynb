{
 "cells": [
  {
   "cell_type": "code",
   "execution_count": 1,
   "id": "84a4705a",
   "metadata": {},
   "outputs": [],
   "source": [
    "# helpers\n",
    "def left(i):\n",
    "    \"\"\"\n",
    "    Returns the index of the left child of i\n",
    "    \"\"\"\n",
    "    return 2 * i + 1\n",
    "\n",
    "def right(i):\n",
    "    \"\"\"\n",
    "    Returns the index of the right child of i\n",
    "    \"\"\"\n",
    "    return 2 * i + 2\n",
    "\n",
    "def parent(i):\n",
    "    \"\"\"\n",
    "    Returns the index of the parent of i\n",
    "    \"\"\"\n",
    "    return (i - 1) // 2"
   ]
  },
  {
   "cell_type": "code",
   "execution_count": 2,
   "id": "e46e47be",
   "metadata": {},
   "outputs": [],
   "source": [
    "# insertion heapify\n",
    "def insert(heap, val):\n",
    "    \"\"\"\n",
    "    Inserts a value into the heap at the end, then bubbles it up to correct position.\n",
    "    \"\"\"\n",
    "    heap.append(val)\n",
    "    i = len(heap)-1\n",
    "    while i > 0 and heap[parent(i)] < heap[i]:\n",
    "        parent_i = parent(i)\n",
    "        temp = heap[parent_i]\n",
    "        heap[parent_i] = heap[i]\n",
    "        heap[i] = temp\n",
    "        i = parent_i\n",
    "\n",
    "def insertion_heapify(A):\n",
    "    \"\"\"\n",
    "    Heapify using insertion method and adding elements one by one\n",
    "    Note: This is NOT inplace, and returns the heap as a list\n",
    "    \"\"\"\n",
    "    heap = []\n",
    "    for i in range(len(A)):\n",
    "        insert(heap, A[i])\n",
    "    return heap"
   ]
  },
  {
   "cell_type": "code",
   "execution_count": 63,
   "id": "1525422e",
   "metadata": {},
   "outputs": [],
   "source": [
    "# bubble method 1\n",
    "def bubble_method_1(A, i):\n",
    "    \"\"\"\n",
    "    Bubble down until value is bigger than both children (we'll call this \"Bubble Method 1\")\n",
    "    Choose the bigger child and swap with it while comparing with itself, then repeat until no more swaps are needed\n",
    "    \"\"\"\n",
    "    n = len(A)\n",
    "    l = left(i)\n",
    "    r = right(i)\n",
    "    while (l < n and A[i] < A[l]) or (r < n and A[i] < A[r]):\n",
    "        if l < n and r < n:\n",
    "            # left\n",
    "            if A[l] > A[r]:\n",
    "                temp = A[l]\n",
    "                A[l] = A[i]\n",
    "                A[i] = temp\n",
    "                i = l\n",
    "            # right\n",
    "            else:\n",
    "                temp = A[r]\n",
    "                A[r] = A[i]\n",
    "                A[i] = temp\n",
    "                i = r\n",
    "        elif l < n:\n",
    "            # left\n",
    "            temp = A[l]\n",
    "            A[l] = A[i]\n",
    "            A[i] = temp\n",
    "            i = l\n",
    "        elif r < n:\n",
    "            # right\n",
    "            temp = A[r]\n",
    "            A[r] = A[i]\n",
    "            A[i] = temp\n",
    "            i = r\n",
    "        l = left(i)\n",
    "        r = right(i)\n"
   ]
  },
  {
   "cell_type": "code",
   "execution_count": 65,
   "id": "ce36d504",
   "metadata": {},
   "outputs": [],
   "source": [
    "# bubble method 2\n",
    "def bubble_method_2(A, i):\n",
    "    \"\"\"\n",
    "    Bubble down all the way, then bubble up until value is smaller than parent\n",
    "    Choose the bigger child and swap with it all the way down, then go back up until smaller than parent\n",
    "    \"\"\"\n",
    "    n = len(A)\n",
    "    l = left(i)\n",
    "    r = right(i)\n",
    "    while l < n:\n",
    "        if r < n:\n",
    "            # left\n",
    "            if A[l] > A[r]:\n",
    "                temp = A[l]\n",
    "                A[l] = A[i]\n",
    "                A[i] = temp\n",
    "                i = l\n",
    "            # right\n",
    "            else:\n",
    "                temp = A[r]\n",
    "                A[r] = A[i]\n",
    "                A[i] = temp\n",
    "                i = r\n",
    "        else:\n",
    "            # left\n",
    "            temp = A[l]\n",
    "            A[l] = A[i]\n",
    "            A[i] = temp\n",
    "            i = l\n",
    "        l = left(i)\n",
    "        r = right(i)\n",
    "    \n",
    "    # bubble up\n",
    "    parent_i = parent(i)\n",
    "    while i > 0 and A[parent_i] < A[i]:\n",
    "        temp = A[parent_i]\n",
    "        A[parent_i] = A[i]\n",
    "        A[i] = temp\n",
    "        i = parent_i\n",
    "        parent_i = parent(i)"
   ]
  },
  {
   "cell_type": "code",
   "execution_count": 66,
   "id": "272f8631",
   "metadata": {},
   "outputs": [],
   "source": [
    "def heapify(A, bubble_down=bubble_method_1):\n",
    "    \"\"\"\n",
    "    Heapify wrapper calling helper\n",
    "    \"\"\"\n",
    "    heapify_h(A, 0, bubble_down)\n",
    "\n",
    "def heapify_h(A, i, bubble_down):\n",
    "    \"\"\"\n",
    "    Heapify using the passed in bubble_down method and build the heap buttom up\n",
    "    \"\"\"\n",
    "    if i < len(A)//2:\n",
    "        heapify_h(A, left(i), bubble_down)\n",
    "        heapify_h(A, right(i), bubble_down)\n",
    "        bubble_down(A, i)"
   ]
  },
  {
   "cell_type": "code",
   "execution_count": 73,
   "id": "8d7add17",
   "metadata": {},
   "outputs": [
    {
     "data": {
      "text/plain": [
       "[10, 9, 8, 7, 6, 5, 4, 3, 2, 1]"
      ]
     },
     "execution_count": 73,
     "metadata": {},
     "output_type": "execute_result"
    }
   ],
   "source": [
    "A = [10, 9, 8, 7, 6, 5, 4, 3, 2, 1]\n",
    "heapify(A, bubble_method_2)\n",
    "A"
   ]
  }
 ],
 "metadata": {
  "kernelspec": {
   "display_name": "Python 3",
   "language": "python",
   "name": "python3"
  },
  "language_info": {
   "codemirror_mode": {
    "name": "ipython",
    "version": 3
   },
   "file_extension": ".py",
   "mimetype": "text/x-python",
   "name": "python",
   "nbconvert_exporter": "python",
   "pygments_lexer": "ipython3",
   "version": "3.13.2"
  }
 },
 "nbformat": 4,
 "nbformat_minor": 5
}
