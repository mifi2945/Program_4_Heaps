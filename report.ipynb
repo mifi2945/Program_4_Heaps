{
 "cells": [
  {
   "cell_type": "markdown",
   "id": "e15333f4",
   "metadata": {},
   "source": [
    "# Program 4: Benchmarking Heaps\n",
    "### Mikhail Filippov\n",
    "In this assigment, we will implement **three** approaches to heapifying an array. With each one, we will benchmark on **sorted**, **reverse sorted**, and **random** arrays to test the `heapify` method.\n",
    "\n",
    "---"
   ]
  },
  {
   "cell_type": "markdown",
   "id": "45ec85d3",
   "metadata": {},
   "source": [
    "### Planning Approach\n",
    "\n",
    "---"
   ]
  },
  {
   "cell_type": "markdown",
   "id": "3f223f00",
   "metadata": {},
   "source": []
  }
 ],
 "metadata": {
  "kernelspec": {
   "display_name": "Python 3",
   "language": "python",
   "name": "python3"
  },
  "language_info": {
   "name": "python",
   "version": "3.13.2"
  }
 },
 "nbformat": 4,
 "nbformat_minor": 5
}
